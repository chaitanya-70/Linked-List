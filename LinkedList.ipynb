{
 "cells": [
  {
   "cell_type": "code",
   "execution_count": null,
   "id": "5b203391-548e-4e99-b857-d2ee11daa9d9",
   "metadata": {},
   "outputs": [],
   "source": [
    "class Node:\n",
    "    def __init__(self,data):\n",
    "        self.data= data\n",
    "        self.next= None\n",
    "class LinkedList:\n",
    "    def __init__(self):\n",
    "        self.head= None\n",
    "    def iab(self, data):\n",
    "        newnode=Node(data)\n",
    "        newnode.next=self.head\n",
    "        self.head=newnode\n",
    "        print(f\"{data} inserted from begin.\")\n",
    "    def display(self):\n",
    "        current = self.head\n",
    "        if not current:\n",
    "            print(\"LL-Empty\")\n",
    "            return\n",
    "        while current:\n",
    "            print(current.data,end='---')\n",
    "            current = current.next\n",
    "        print(\"None\")\n",
    "        \n",
    "\n",
    "\n",
    "ll=LinkedList()\n",
    "while True:\n",
    "    print(\"\\n LinkedList- Insert at begin.....\")\n",
    "    print(\"1. Insert\")\n",
    "    print(\"2. Display\")\n",
    "    print(\"3. Exit\")\n",
    "    choice=input(\"enter your choice\")\n",
    "    if choice=='1':\n",
    "        data=int(input(\"enter a value to insert:\"))\n",
    "        ll.iab(data)\n",
    "    elif choice=='2':\n",
    "        ll.display()\n",
    "    elif choice=='3':\n",
    "        print(\"Exit the operation...\")\n",
    "        break\n",
    "    else:\n",
    "        print(\"enter only ....1/2/3/\")\n",
    "        "
   ]
  }
 ],
 "metadata": {
  "kernelspec": {
   "display_name": "Python 3 (ipykernel)",
   "language": "python",
   "name": "python3"
  },
  "language_info": {
   "codemirror_mode": {
    "name": "ipython",
    "version": 3
   },
   "file_extension": ".py",
   "mimetype": "text/x-python",
   "name": "python",
   "nbconvert_exporter": "python",
   "pygments_lexer": "ipython3",
   "version": "3.12.7"
  }
 },
 "nbformat": 4,
 "nbformat_minor": 5
}
