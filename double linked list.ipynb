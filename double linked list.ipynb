{
 "cells": [
  {
   "cell_type": "code",
   "execution_count": 7,
   "id": "c6c448ed-e534-4ebc-9109-3f8b6ed28427",
   "metadata": {},
   "outputs": [
    {
     "name": "stdin",
     "output_type": "stream",
     "text": [
      "enter the number of elements to insert at end:  3\n",
      "enter element 1: 999\n",
      "enter element 2: 9999\n",
      "enter element 3: 1\n"
     ]
    },
    {
     "name": "stdout",
     "output_type": "stream",
     "text": [
      "Doubly Linked list:\n",
      "999<->9999<->1<->None\n"
     ]
    }
   ],
   "source": [
    "#at the end insertion on DLL\n",
    "\n",
    "class Node:\n",
    "    def __init__(self,data):\n",
    "        self.data=data\n",
    "        self.prev=None\n",
    "        self.next=None\n",
    "class DoublyLinkedlist:\n",
    "    def __init__(self):\n",
    "        self.head=None\n",
    "    def iae(self,data):\n",
    "        newnode=Node(data)\n",
    "        if self.head is None:\n",
    "            self.head=newnode\n",
    "            return\n",
    "        temp= self.head\n",
    "        while temp.next:\n",
    "            temp=temp.next\n",
    "        temp.next=newnode\n",
    "        newnode.prev=temp\n",
    "    def display(self):\n",
    "        temp=self.head\n",
    "        print(\"Doubly Linked list:\")\n",
    "        while temp:\n",
    "            print(temp.data, end=\"<->\")\n",
    "            temp=temp.next\n",
    "        print(\"None\")\n",
    "            \n",
    "        \n",
    "dll=DoublyLinkedlist()\n",
    "n=int(input(\"enter the number of elements to insert at end: \"))\n",
    "for i in range(n):\n",
    "    val=int(input(f\"enter element {i+1}:\"))\n",
    "    dll.iae(val)\n",
    "dll.display()\n",
    "\n"
   ]
  },
  {
   "cell_type": "code",
   "execution_count": 9,
   "id": "a58730d8-f2ca-40eb-b908-53be56911350",
   "metadata": {},
   "outputs": [
    {
     "name": "stdin",
     "output_type": "stream",
     "text": [
      "Enter the number of elements to insert at beginning:  3\n",
      "Enter element 1:  52\n",
      "Enter element 2:  25\n",
      "Enter element 3:  22\n"
     ]
    },
    {
     "name": "stdout",
     "output_type": "stream",
     "text": [
      "Doubly Linked List:\n",
      "22 <-> 25 <-> 52 <-> None\n"
     ]
    }
   ],
   "source": [
    "# insert at begining\n",
    "\n",
    "\n",
    "\n",
    "class Node:\n",
    "    def __init__(self, data):\n",
    "        self.data = data\n",
    "        self.prev = None\n",
    "        self.next = None\n",
    "\n",
    "class DoublyLinkedlist:\n",
    "    def __init__(self):\n",
    "        self.head = None\n",
    "\n",
    "    # # Insert at end\n",
    "    # def iae(self, data):\n",
    "    #     newnode = Node(data)\n",
    "    #     if self.head is None:\n",
    "    #         self.head = newnode\n",
    "    #         return\n",
    "    #     temp = self.head\n",
    "    #     while temp.next:\n",
    "    #         temp = temp.next\n",
    "    #     temp.next = newnode\n",
    "    #     newnode.prev = temp\n",
    "\n",
    "    def iab(self, data):\n",
    "        newnode = Node(data)\n",
    "        if self.head is None:\n",
    "            self.head = newnode\n",
    "            return\n",
    "        newnode.next = self.head\n",
    "        self.head.prev = newnode\n",
    "        self.head = newnode\n",
    "\n",
    "    def display(self):\n",
    "        temp = self.head\n",
    "        print(\"Doubly Linked List:\")\n",
    "        while temp:\n",
    "            print(temp.data, end=\" <-> \")\n",
    "            temp = temp.next\n",
    "        print(\"None\")\n",
    "\n",
    "dll = DoublyLinkedlist()\n",
    "n = int(input(\"Enter the number of elements to insert at beginning: \"))\n",
    "for i in range(n):\n",
    "    val = int(input(f\"Enter element {i+1}: \"))\n",
    "    dll.iab(val)\n",
    "\n",
    "dll.display()\n"
   ]
  },
  {
   "cell_type": "code",
   "execution_count": null,
   "id": "cb8c4f47-2119-4a60-bd61-5549d7352a2b",
   "metadata": {},
   "outputs": [],
   "source": [
    "\n",
    "\n",
    "\n",
    "\n",
    "\n",
    "\n",
    "\n",
    "\n",
    "\n",
    "\n",
    "\n",
    "def iap(self,pos,data):\n",
    "    newnode= Node(data)\n",
    "    if pos<=0:\n",
    "        print(\"Inalid poition\")\n",
    "        return\n",
    "    if po==1:\n",
    "        newnode.next=self.head\n",
    "        if self.head:\n",
    "            self.head.prev=newnode\n",
    "        self.head=newode\n",
    "        return\n",
    "    temp=self.head\n",
    "    for _ in range(pos-2:):\n",
    "        if temp is None:\n",
    "            print(\"position off range\")\n",
    "            return\n",
    "        temp=temp.next\n",
    "    if  temp is None:\n",
    "        print(\"no elements....\")\n",
    "        return\n",
    "    newnode.next=temp.next\n",
    "    newnode.prev=temp\n",
    "    if temp.next:\n",
    "                 \n",
    "        "
   ]
  }
 ],
 "metadata": {
  "kernelspec": {
   "display_name": "Python 3 (ipykernel)",
   "language": "python",
   "name": "python3"
  },
  "language_info": {
   "codemirror_mode": {
    "name": "ipython",
    "version": 3
   },
   "file_extension": ".py",
   "mimetype": "text/x-python",
   "name": "python",
   "nbconvert_exporter": "python",
   "pygments_lexer": "ipython3",
   "version": "3.12.7"
  }
 },
 "nbformat": 4,
 "nbformat_minor": 5
}
